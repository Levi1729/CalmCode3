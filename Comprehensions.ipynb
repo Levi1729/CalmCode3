{
  "nbformat": 4,
  "nbformat_minor": 0,
  "metadata": {
    "colab": {
      "provenance": []
    },
    "kernelspec": {
      "name": "python3",
      "display_name": "Python 3"
    },
    "language_info": {
      "name": "python"
    }
  },
  "cells": [
    {
      "cell_type": "markdown",
      "source": [
        "Let me take a scenario to understand how comprehensions topic would benefit our codes. The goal of the script is to transfer contents from a list to new list after multiplying all the values in old list by 2. The code for that is given below."
      ],
      "metadata": {
        "id": "giSYQov7Y_Yb"
      }
    },
    {
      "cell_type": "code",
      "execution_count": 1,
      "metadata": {
        "id": "vONLKKqxY7Y8",
        "colab": {
          "base_uri": "https://localhost:8080/"
        },
        "outputId": "6c297078-4076-4977-870f-2323fc209e68"
      },
      "outputs": [
        {
          "output_type": "execute_result",
          "data": {
            "text/plain": [
              "[2, 4, 6, 8, 10]"
            ]
          },
          "metadata": {},
          "execution_count": 1
        }
      ],
      "source": [
        "old_list=[1,2,3,4,5]\n",
        "new_list=[]\n",
        "for i in old_list:\n",
        "  new_list.append(i*2)\n",
        "new_list"
      ]
    },
    {
      "cell_type": "markdown",
      "source": [
        "Well the code worked perfectly but it is a bit lengthy. Let me take another sample code for below code."
      ],
      "metadata": {
        "id": "FeVmZN2FaH59"
      }
    },
    {
      "cell_type": "code",
      "source": [
        "[i * 2 for i in old_list]"
      ],
      "metadata": {
        "colab": {
          "base_uri": "https://localhost:8080/"
        },
        "id": "Y518qB0baGzs",
        "outputId": "dc1a6635-2dad-4af6-d2fe-dc76f9ffadf0"
      },
      "execution_count": 2,
      "outputs": [
        {
          "output_type": "execute_result",
          "data": {
            "text/plain": [
              "[2, 4, 6, 8, 10]"
            ]
          },
          "metadata": {},
          "execution_count": 2
        }
      ]
    },
    {
      "cell_type": "markdown",
      "source": [
        "Well, the second code is also giving the same output and using second one will save lot of effort and time. As number of lines decreases, performance of the program increases as time complexity decreases. The second code was written using the comprehensions concept which helps us to decrease lines in code and increase performnace."
      ],
      "metadata": {
        "id": "aypmIQJMaZa0"
      }
    },
    {
      "cell_type": "code",
      "source": [
        "old_list=[1,2,3,4,5]\n",
        "new_list=[]\n",
        "for i in old_list:\n",
        "  if(i%2==0):\n",
        "   new_list.append(i*2)\n",
        "new_list"
      ],
      "metadata": {
        "colab": {
          "base_uri": "https://localhost:8080/"
        },
        "id": "GRtqrnyxcUTW",
        "outputId": "fe6f7618-eb7d-411f-db3a-89947841ba70"
      },
      "execution_count": 4,
      "outputs": [
        {
          "output_type": "execute_result",
          "data": {
            "text/plain": [
              "[4, 8]"
            ]
          },
          "metadata": {},
          "execution_count": 4
        }
      ]
    },
    {
      "cell_type": "markdown",
      "source": [
        "You might wonder, what if we are having an if statement, which make things a bit tougher. Let me rewrite the short version of code using the if block."
      ],
      "metadata": {
        "id": "nqQJvy1rc2cz"
      }
    },
    {
      "cell_type": "code",
      "source": [
        "[i*2 for i in old_list if i % 2 == 0]"
      ],
      "metadata": {
        "colab": {
          "base_uri": "https://localhost:8080/"
        },
        "id": "bIkp4oSgdFVT",
        "outputId": "d3656fd9-e829-45f7-b95c-e3d8d56d063f"
      },
      "execution_count": 5,
      "outputs": [
        {
          "output_type": "execute_result",
          "data": {
            "text/plain": [
              "[4, 8]"
            ]
          },
          "metadata": {},
          "execution_count": 5
        }
      ]
    },
    {
      "cell_type": "markdown",
      "source": [
        "If you are having another condition, then you can add it at the last to indicate that the second condition (if) is nested under the first condition (i in old_list). In the similar, we can use comprhenesions to write scripts with different blocks under the for loop."
      ],
      "metadata": {
        "id": "EdOImJvNdVDq"
      }
    },
    {
      "cell_type": "code",
      "source": [
        "old_list = [1, 2, 3, 4, 5]\n",
        "new_list = []\n",
        "\n",
        "for i in range(16):\n",
        "  if(i%3==0):\n",
        "   if(i%2==0):\n",
        "     new_list.append(i)\n",
        "   else:\n",
        "     new_list.append(i*2)\n",
        "new_list"
      ],
      "metadata": {
        "colab": {
          "base_uri": "https://localhost:8080/"
        },
        "id": "okTAOafqeeOD",
        "outputId": "07df3134-a67d-468b-9db1-ec0e755fc284"
      },
      "execution_count": 26,
      "outputs": [
        {
          "output_type": "execute_result",
          "data": {
            "text/plain": [
              "[0, 6, 6, 18, 12, 30]"
            ]
          },
          "metadata": {},
          "execution_count": 26
        }
      ]
    },
    {
      "cell_type": "markdown",
      "source": [
        "The above code is having complex if and else statements in one if block. The above code can be minimzed using comprehensions as follows;"
      ],
      "metadata": {
        "id": "k2jwLnr-edcQ"
      }
    },
    {
      "cell_type": "code",
      "source": [
        "[i if i % 2 == 0 else i * 2 for i in range(16) if i % 3 == 0]"
      ],
      "metadata": {
        "colab": {
          "base_uri": "https://localhost:8080/"
        },
        "id": "0kAlGCVBdykP",
        "outputId": "0e15f19e-8df7-40a5-f4eb-d871ae1d5276"
      },
      "execution_count": 6,
      "outputs": [
        {
          "output_type": "execute_result",
          "data": {
            "text/plain": [
              "[0, 6, 6, 18, 12, 30]"
            ]
          },
          "metadata": {},
          "execution_count": 6
        }
      ]
    },
    {
      "cell_type": "markdown",
      "source": [
        "Now, the code is executed in the following order. First the last condition is checked and if it is true then piece of code before gets executed and if it false, there is nothing so leave it. In the inner piece of code also, there is if and else block. Keep those under first if-true part of code. Here the last condition is acting as filter."
      ],
      "metadata": {
        "id": "6CJZZ0mxlzLr"
      }
    },
    {
      "cell_type": "code",
      "source": [
        "old_list = 'abcde'\n",
        "new_list = []\n",
        "for i in range(len(old_list)):\n",
        "    if i % 2 == 0:\n",
        "        new_list.append(old_list[i])\n",
        "new_list"
      ],
      "metadata": {
        "colab": {
          "base_uri": "https://localhost:8080/"
        },
        "id": "KQRmyvC9mfWS",
        "outputId": "e84bb4c6-dd4a-4863-ba1d-2de36a6d1d55"
      },
      "execution_count": 27,
      "outputs": [
        {
          "output_type": "execute_result",
          "data": {
            "text/plain": [
              "['a', 'c', 'e']"
            ]
          },
          "metadata": {},
          "execution_count": 27
        }
      ]
    },
    {
      "cell_type": "markdown",
      "source": [
        "Old list is having abcde, there is nothing in new line. Loop is iterated, all the even number places: 0,2,4 having 'a','c', and 'e' will be appended to new list and at last, it is printed."
      ],
      "metadata": {
        "id": "pAg7k0bsuxAy"
      }
    },
    {
      "cell_type": "code",
      "source": [
        "[char for idx, char in enumerate('abcde') if idx % 2 == 0]"
      ],
      "metadata": {
        "colab": {
          "base_uri": "https://localhost:8080/"
        },
        "id": "DI_enjhSwIuf",
        "outputId": "12a96e48-b172-49e3-fd4f-38cab7e6385a"
      },
      "execution_count": 28,
      "outputs": [
        {
          "output_type": "execute_result",
          "data": {
            "text/plain": [
              "['a', 'c', 'e']"
            ]
          },
          "metadata": {},
          "execution_count": 28
        }
      ]
    },
    {
      "cell_type": "markdown",
      "source": [
        "Just like the previous code, above code also prints the same thing. Compared to previous code, this code is shorter and simple. I am using 'enumerate' method which will convert the given string into part of individual characters. Rest of thing is same as the above examples where we have first thing to be caluculated at first. It is a list varaible which we must print and then idx stands for index and we are adding values at even indices into the list."
      ],
      "metadata": {
        "id": "P1RBTg4ew9Z6"
      }
    },
    {
      "cell_type": "markdown",
      "source": [
        "Let me take another example code implementing the concpet further. Below code is taking a list which has five elements {a,b,c,d,e}. Now I will be iterating that list using 'i' variable and checking what elements are there at even places. Let me take another variable to store values at even places, 'c'. If c is having any vowels, then I will be captailizing those otherwise let it be small case letters itself. Lastly, add all c elements into new_list and print it."
      ],
      "metadata": {
        "id": "6RGOeojayCdt"
      }
    },
    {
      "cell_type": "code",
      "source": [
        "old_list = 'abcde'\n",
        "new_list = []\n",
        "for i, c in enumerate(old_list):\n",
        "    if i % 2 == 0:\n",
        "        if c in 'aeuio':\n",
        "            char = c.upper()\n",
        "        else:\n",
        "            char = c\n",
        "        new_list.append(char)\n",
        "new_list"
      ],
      "metadata": {
        "colab": {
          "base_uri": "https://localhost:8080/"
        },
        "id": "LeH3WjjRx5RP",
        "outputId": "83c822eb-1f7b-4b06-efa8-417dff3bb800"
      },
      "execution_count": 29,
      "outputs": [
        {
          "output_type": "execute_result",
          "data": {
            "text/plain": [
              "['A', 'c', 'E']"
            ]
          },
          "metadata": {},
          "execution_count": 29
        }
      ]
    },
    {
      "cell_type": "markdown",
      "source": [
        "Let me write compressed version of above python script with the methodology we used for above examples. If you feel it is very lengthy, you can break the line and add rest of them in seperarte lines to look more simple and readable."
      ],
      "metadata": {
        "id": "zKfT2JHfzPrC"
      }
    },
    {
      "cell_type": "code",
      "source": [
        "[c.upper() if c in 'aeuio' else c for i, c in enumerate(old_list) if i % 2 ==0]"
      ],
      "metadata": {
        "colab": {
          "base_uri": "https://localhost:8080/"
        },
        "id": "bQXJxW62zNfo",
        "outputId": "89e2c894-0957-49a6-dcd1-0cbdf336bd2a"
      },
      "execution_count": 31,
      "outputs": [
        {
          "output_type": "execute_result",
          "data": {
            "text/plain": [
              "['A', 'c', 'E']"
            ]
          },
          "metadata": {},
          "execution_count": 31
        }
      ]
    },
    {
      "cell_type": "code",
      "source": [
        "for i in range(5):\n",
        "    for j in range(i):\n",
        "        print((i, j))"
      ],
      "metadata": {
        "colab": {
          "base_uri": "https://localhost:8080/"
        },
        "id": "711jNASO1wp6",
        "outputId": "b788e798-9821-4a25-d422-6e1d7ce6ab7d"
      },
      "execution_count": 32,
      "outputs": [
        {
          "output_type": "stream",
          "name": "stdout",
          "text": [
            "(1, 0)\n",
            "(2, 0)\n",
            "(2, 1)\n",
            "(3, 0)\n",
            "(3, 1)\n",
            "(3, 2)\n",
            "(4, 0)\n",
            "(4, 1)\n",
            "(4, 2)\n",
            "(4, 3)\n"
          ]
        }
      ]
    },
    {
      "cell_type": "markdown",
      "source": [
        "Above code deals with dual for loops. It can also be compressed further. Let us see how it can be done."
      ],
      "metadata": {
        "id": "RiTKoReh1uf4"
      }
    },
    {
      "cell_type": "code",
      "source": [
        "[(i,j) for i in range(5) for j in range(i)]"
      ],
      "metadata": {
        "colab": {
          "base_uri": "https://localhost:8080/"
        },
        "id": "x8Ll0nNc28oB",
        "outputId": "277c3613-9d50-4da8-df3d-752699b9a6cd"
      },
      "execution_count": 34,
      "outputs": [
        {
          "output_type": "execute_result",
          "data": {
            "text/plain": [
              "[(1, 0),\n",
              " (2, 0),\n",
              " (2, 1),\n",
              " (3, 0),\n",
              " (3, 1),\n",
              " (3, 2),\n",
              " (4, 0),\n",
              " (4, 1),\n",
              " (4, 2),\n",
              " (4, 3)]"
            ]
          },
          "metadata": {},
          "execution_count": 34
        }
      ]
    },
    {
      "cell_type": "markdown",
      "source": [
        "You can further complex the example by adding an extra conditions for both the for loops. Let me write the code for it."
      ],
      "metadata": {
        "id": "4j9TJDl-4A0Z"
      }
    },
    {
      "cell_type": "code",
      "source": [
        "for i in range(5):\n",
        "    if i > 2:\n",
        "        for j in range(i):\n",
        "            if j < 2:\n",
        "                print((i, j))"
      ],
      "metadata": {
        "colab": {
          "base_uri": "https://localhost:8080/"
        },
        "id": "m37Q8_DA4SI7",
        "outputId": "d3489683-f95d-4ec0-9697-62daf5fd481a"
      },
      "execution_count": 36,
      "outputs": [
        {
          "output_type": "stream",
          "name": "stdout",
          "text": [
            "(3, 0)\n",
            "(3, 1)\n",
            "(4, 0)\n",
            "(4, 1)\n"
          ]
        }
      ]
    },
    {
      "cell_type": "markdown",
      "source": [
        "The above code must be again compressed using all the above theories we have used on various examples. The if conditions must be correctly placed. The simplified version of code will be below."
      ],
      "metadata": {
        "id": "kuy_IF6n4v0K"
      }
    },
    {
      "cell_type": "code",
      "source": [
        "[(i,j) for i in range(5) if i>2 for j in  range(i) if j<2]"
      ],
      "metadata": {
        "colab": {
          "base_uri": "https://localhost:8080/"
        },
        "id": "gN5aIi3S5Hsi",
        "outputId": "ccb854e2-6568-47bc-fb87-468ee1faf90e"
      },
      "execution_count": 37,
      "outputs": [
        {
          "output_type": "execute_result",
          "data": {
            "text/plain": [
              "[(3, 0), (3, 1), (4, 0), (4, 1)]"
            ]
          },
          "metadata": {},
          "execution_count": 37
        }
      ]
    },
    {
      "cell_type": "markdown",
      "source": [
        "First let me fill upto previous one without considering the if conditions. Then next thing to be added is first condition after first for loop and second if condition must be at last as it is the inner code"
      ],
      "metadata": {
        "id": "ZKKf-9aB5rnt"
      }
    },
    {
      "cell_type": "code",
      "source": [
        "[c for i, c in enumerate('abceabce') if i < 5] #using as list-comprhension\n",
        "{c for i, c in enumerate('abceabce')} #using as set comprehensions\n",
        "tuple(c for i, c in enumerate('abceabce')) #using as tuple comprehensions\n",
        "{i: c for i, c in enumerate('abceabce') if i < 5} #using as dictionaries"
      ],
      "metadata": {
        "colab": {
          "base_uri": "https://localhost:8080/"
        },
        "id": "9hjF7K2i6C_F",
        "outputId": "c8bd2959-586e-4110-e6e9-d59fd531f10f"
      },
      "execution_count": 39,
      "outputs": [
        {
          "output_type": "execute_result",
          "data": {
            "text/plain": [
              "{0: 'a', 1: 'b', 2: 'c', 3: 'e', 4: 'a'}"
            ]
          },
          "metadata": {},
          "execution_count": 39
        }
      ]
    },
    {
      "cell_type": "markdown",
      "source": [
        "Apart form lists, comprehensions can also be used as many data containers like lists, sets, tuples and dictionaries. Example is given in above code with each line depicting one unique application of comprehension.\n",
        "So just like in previous operations, I can do every operation on dictonaries, tuples, sets etc"
      ],
      "metadata": {
        "id": "avJboawvFfo-"
      }
    },
    {
      "cell_type": "code",
      "source": [
        "{c: i for i, c in enumerate('abcdef')}"
      ],
      "metadata": {
        "colab": {
          "base_uri": "https://localhost:8080/"
        },
        "id": "gtZ6J18YFpz9",
        "outputId": "baf2db4f-6145-454b-dff7-a22e42fd2255"
      },
      "execution_count": 42,
      "outputs": [
        {
          "output_type": "execute_result",
          "data": {
            "text/plain": [
              "{'a': 0, 'b': 1, 'c': 2, 'd': 3, 'e': 4, 'f': 5}"
            ]
          },
          "metadata": {},
          "execution_count": 42
        }
      ]
    },
    {
      "cell_type": "markdown",
      "source": [
        "The above code says that we can interchnage order of keys and values according to our interest. In previous output, keys were numbers and values were alphabets and now it is vice versa. One problem  might arise due to difference in peroperties between lists and dictionaries."
      ],
      "metadata": {
        "id": "G7QUa6qFH29a"
      }
    },
    {
      "cell_type": "code",
      "source": [
        "{c: i for i, c in enumerate('abcdefa')}"
      ],
      "metadata": {
        "colab": {
          "base_uri": "https://localhost:8080/"
        },
        "id": "xQfNsGujH2Qm",
        "outputId": "4c0b0241-81e7-498a-db1f-800c09ec98ab"
      },
      "execution_count": 43,
      "outputs": [
        {
          "output_type": "execute_result",
          "data": {
            "text/plain": [
              "{'a': 6, 'b': 1, 'c': 2, 'd': 3, 'e': 4, 'f': 5}"
            ]
          },
          "metadata": {},
          "execution_count": 43
        }
      ]
    },
    {
      "cell_type": "markdown",
      "source": [
        "The problem metioned in previous case is depicted here. In dictionaries, key must be unique and if you are giving repeated values then, the most recent value wil; be taken as the key. There were two keys '0' and '6' given to a but then key updated to '6' and '0' value just got discarded."
      ],
      "metadata": {
        "id": "D7vUoePpIgXP"
      }
    },
    {
      "cell_type": "code",
      "source": [
        "arr = [('a', 1), ('b', 2), ('c', 2)]\n",
        "for idx, (char, i) in enumerate(arr):\n",
        "    print(idx, char, i)"
      ],
      "metadata": {
        "colab": {
          "base_uri": "https://localhost:8080/"
        },
        "id": "fwyNhIWiJIWJ",
        "outputId": "bd350b10-a27d-4d24-c9f0-f62b6e7c6892"
      },
      "execution_count": 44,
      "outputs": [
        {
          "output_type": "stream",
          "name": "stdout",
          "text": [
            "0 a 1\n",
            "1 b 2\n",
            "2 c 2\n"
          ]
        }
      ]
    },
    {
      "cell_type": "markdown",
      "source": [
        "Index and content of the tuple is given using for loop. Enumareted can give ectra flexibility while dealing with tuple comprehensions. Let me give how to do it in next code as example."
      ],
      "metadata": {
        "id": "bt4SADo5JftB"
      }
    },
    {
      "cell_type": "code",
      "source": [
        "[{key: value, 'i': idx} for idx, (key, value) in enumerate(arr)]"
      ],
      "metadata": {
        "colab": {
          "base_uri": "https://localhost:8080/"
        },
        "id": "vKsYKT_KJgB2",
        "outputId": "f1060f3a-bdbe-486b-9e52-a058bc7d37b3"
      },
      "execution_count": 45,
      "outputs": [
        {
          "output_type": "execute_result",
          "data": {
            "text/plain": [
              "[{'a': 1, 'i': 0}, {'b': 2, 'i': 1}, {'c': 2, 'i': 2}]"
            ]
          },
          "metadata": {},
          "execution_count": 45
        }
      ]
    },
    {
      "cell_type": "markdown",
      "source": [
        "It is simply unboxing with giving key and value pair as a dictionary. But to that I can add index aslo for detailed information."
      ],
      "metadata": {
        "id": "CG25eqb3Jinx"
      }
    },
    {
      "cell_type": "code",
      "source": [
        "d = {'a': 1, 'b': 2, 'c': 3}\n",
        "[(k, v) for k, v in d.items()]"
      ],
      "metadata": {
        "colab": {
          "base_uri": "https://localhost:8080/"
        },
        "id": "PYR2NXXWLJ-k",
        "outputId": "c610220e-1f7e-4170-cb29-94f0c1a6d90f"
      },
      "execution_count": 46,
      "outputs": [
        {
          "output_type": "execute_result",
          "data": {
            "text/plain": [
              "[('a', 1), ('b', 2), ('c', 3)]"
            ]
          },
          "metadata": {},
          "execution_count": 46
        }
      ]
    },
    {
      "cell_type": "markdown",
      "source": [
        "Using the above code, I can unpack the values in dictionary and display them in a seperate format. Using items method can give you flexibility to display them in any format you like."
      ],
      "metadata": {
        "id": "sd0Vd8XTLit5"
      }
    },
    {
      "cell_type": "code",
      "source": [
        "[(a, b) for a, b in zip([1, 2, 3], [4, 5, 6])]"
      ],
      "metadata": {
        "colab": {
          "base_uri": "https://localhost:8080/"
        },
        "id": "hTnjOnNrMRLa",
        "outputId": "76e3014a-4525-470f-f2d3-642e91efb00c"
      },
      "execution_count": 48,
      "outputs": [
        {
          "output_type": "execute_result",
          "data": {
            "text/plain": [
              "[(1, 4), (2, 5), (3, 6)]"
            ]
          },
          "metadata": {},
          "execution_count": 48
        }
      ]
    },
    {
      "cell_type": "markdown",
      "source": [
        "When you are having different set of comprehensions and merge them together like first element from the first set and second element from the other set, then zip method will be very helpful."
      ],
      "metadata": {
        "id": "v7YCwOAgMTHF"
      }
    },
    {
      "cell_type": "code",
      "source": [
        "[(a, b, c) for a, b, c in zip([1, 2, 3], [4, 5, 6], [7, 8, 9])]"
      ],
      "metadata": {
        "colab": {
          "base_uri": "https://localhost:8080/"
        },
        "id": "dcX2GfzvMn6S",
        "outputId": "85fc4f00-e76c-4319-b4a6-9e3149741efc"
      },
      "execution_count": 49,
      "outputs": [
        {
          "output_type": "execute_result",
          "data": {
            "text/plain": [
              "[(1, 4, 7), (2, 5, 8), (3, 6, 9)]"
            ]
          },
          "metadata": {},
          "execution_count": 49
        }
      ]
    },
    {
      "cell_type": "markdown",
      "source": [
        "In the similar way, you can also group three arrays together as a single comprehension using the zip method like the above one."
      ],
      "metadata": {
        "id": "wowwVYhfMorT"
      }
    }
  ]
}