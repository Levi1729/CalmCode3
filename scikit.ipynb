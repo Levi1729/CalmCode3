{
  "nbformat": 4,
  "nbformat_minor": 0,
  "metadata": {
    "colab": {
      "provenance": []
    },
    "kernelspec": {
      "name": "python3",
      "display_name": "Python 3"
    },
    "language_info": {
      "name": "python"
    }
  },
  "cells": [
    {
      "cell_type": "markdown",
      "source": [
        "Scikit learn is one of the famous and important libraries in Python. It helps to make predictions using machine-learning concepts. Lets see how it can be effectively. For the following codes, I am installing scikit. Using below scripts, I am installing general version of scikit without specifying any version externally and matlpotlib module also."
      ],
      "metadata": {
        "id": "CCpXJ7HElWMs"
      }
    },
    {
      "cell_type": "code",
      "source": [
        "!pip install scikit-learn"
      ],
      "metadata": {
        "colab": {
          "base_uri": "https://localhost:8080/"
        },
        "id": "FimjmPQ1tuPy",
        "outputId": "bed63339-7b30-4be9-cd1d-602e98f40a34"
      },
      "execution_count": 2,
      "outputs": [
        {
          "output_type": "stream",
          "name": "stdout",
          "text": [
            "Requirement already satisfied: scikit-learn in /usr/local/lib/python3.10/dist-packages (1.2.2)\n",
            "Requirement already satisfied: numpy>=1.17.3 in /usr/local/lib/python3.10/dist-packages (from scikit-learn) (1.25.2)\n",
            "Requirement already satisfied: scipy>=1.3.2 in /usr/local/lib/python3.10/dist-packages (from scikit-learn) (1.11.4)\n",
            "Requirement already satisfied: joblib>=1.1.1 in /usr/local/lib/python3.10/dist-packages (from scikit-learn) (1.3.2)\n",
            "Requirement already satisfied: threadpoolctl>=2.0.0 in /usr/local/lib/python3.10/dist-packages (from scikit-learn) (3.3.0)\n"
          ]
        }
      ]
    },
    {
      "cell_type": "code",
      "source": [
        "%pip install matplotlib"
      ],
      "metadata": {
        "colab": {
          "base_uri": "https://localhost:8080/"
        },
        "id": "qJAaKF6ut30i",
        "outputId": "6cd0f64c-51b8-428f-b38a-a29998fd2f71"
      },
      "execution_count": 3,
      "outputs": [
        {
          "output_type": "stream",
          "name": "stdout",
          "text": [
            "Requirement already satisfied: matplotlib in /usr/local/lib/python3.10/dist-packages (3.7.1)\n",
            "Requirement already satisfied: contourpy>=1.0.1 in /usr/local/lib/python3.10/dist-packages (from matplotlib) (1.2.0)\n",
            "Requirement already satisfied: cycler>=0.10 in /usr/local/lib/python3.10/dist-packages (from matplotlib) (0.12.1)\n",
            "Requirement already satisfied: fonttools>=4.22.0 in /usr/local/lib/python3.10/dist-packages (from matplotlib) (4.49.0)\n",
            "Requirement already satisfied: kiwisolver>=1.0.1 in /usr/local/lib/python3.10/dist-packages (from matplotlib) (1.4.5)\n",
            "Requirement already satisfied: numpy>=1.20 in /usr/local/lib/python3.10/dist-packages (from matplotlib) (1.25.2)\n",
            "Requirement already satisfied: packaging>=20.0 in /usr/local/lib/python3.10/dist-packages (from matplotlib) (23.2)\n",
            "Requirement already satisfied: pillow>=6.2.0 in /usr/local/lib/python3.10/dist-packages (from matplotlib) (9.4.0)\n",
            "Requirement already satisfied: pyparsing>=2.3.1 in /usr/local/lib/python3.10/dist-packages (from matplotlib) (3.1.1)\n",
            "Requirement already satisfied: python-dateutil>=2.7 in /usr/local/lib/python3.10/dist-packages (from matplotlib) (2.8.2)\n",
            "Requirement already satisfied: six>=1.5 in /usr/local/lib/python3.10/dist-packages (from python-dateutil>=2.7->matplotlib) (1.16.0)\n"
          ]
        }
      ]
    },
    {
      "cell_type": "code",
      "source": [
        "import sklearn\n",
        "print(sklearn.__version__)"
      ],
      "metadata": {
        "colab": {
          "base_uri": "https://localhost:8080/"
        },
        "id": "O-JTMJ3it_aj",
        "outputId": "18c8b69b-dc63-4c0a-fb4c-73c7b5d67fcc"
      },
      "execution_count": 10,
      "outputs": [
        {
          "output_type": "stream",
          "name": "stdout",
          "text": [
            "1.2.2\n"
          ]
        }
      ]
    },
    {
      "cell_type": "code",
      "source": [
        "from sklearn.datasets import load_diabetes\n",
        "load_diabetes()"
      ],
      "metadata": {
        "colab": {
          "base_uri": "https://localhost:8080/"
        },
        "id": "Tvb6Xtb_7DOF",
        "outputId": "fb2c87c4-49fd-41bc-d048-d52ca5b36f87"
      },
      "execution_count": 17,
      "outputs": [
        {
          "output_type": "execute_result",
          "data": {
            "text/plain": [
              "{'data': array([[ 0.03807591,  0.05068012,  0.06169621, ..., -0.00259226,\n",
              "          0.01990749, -0.01764613],\n",
              "        [-0.00188202, -0.04464164, -0.05147406, ..., -0.03949338,\n",
              "         -0.06833155, -0.09220405],\n",
              "        [ 0.08529891,  0.05068012,  0.04445121, ..., -0.00259226,\n",
              "          0.00286131, -0.02593034],\n",
              "        ...,\n",
              "        [ 0.04170844,  0.05068012, -0.01590626, ..., -0.01107952,\n",
              "         -0.04688253,  0.01549073],\n",
              "        [-0.04547248, -0.04464164,  0.03906215, ...,  0.02655962,\n",
              "          0.04452873, -0.02593034],\n",
              "        [-0.04547248, -0.04464164, -0.0730303 , ..., -0.03949338,\n",
              "         -0.00422151,  0.00306441]]),\n",
              " 'target': array([151.,  75., 141., 206., 135.,  97., 138.,  63., 110., 310., 101.,\n",
              "         69., 179., 185., 118., 171., 166., 144.,  97., 168.,  68.,  49.,\n",
              "         68., 245., 184., 202., 137.,  85., 131., 283., 129.,  59., 341.,\n",
              "         87.,  65., 102., 265., 276., 252.,  90., 100.,  55.,  61.,  92.,\n",
              "        259.,  53., 190., 142.,  75., 142., 155., 225.,  59., 104., 182.,\n",
              "        128.,  52.,  37., 170., 170.,  61., 144.,  52., 128.,  71., 163.,\n",
              "        150.,  97., 160., 178.,  48., 270., 202., 111.,  85.,  42., 170.,\n",
              "        200., 252., 113., 143.,  51.,  52., 210.,  65., 141.,  55., 134.,\n",
              "         42., 111.,  98., 164.,  48.,  96.,  90., 162., 150., 279.,  92.,\n",
              "         83., 128., 102., 302., 198.,  95.,  53., 134., 144., 232.,  81.,\n",
              "        104.,  59., 246., 297., 258., 229., 275., 281., 179., 200., 200.,\n",
              "        173., 180.,  84., 121., 161.,  99., 109., 115., 268., 274., 158.,\n",
              "        107.,  83., 103., 272.,  85., 280., 336., 281., 118., 317., 235.,\n",
              "         60., 174., 259., 178., 128.,  96., 126., 288.,  88., 292.,  71.,\n",
              "        197., 186.,  25.,  84.,  96., 195.,  53., 217., 172., 131., 214.,\n",
              "         59.,  70., 220., 268., 152.,  47.,  74., 295., 101., 151., 127.,\n",
              "        237., 225.,  81., 151., 107.,  64., 138., 185., 265., 101., 137.,\n",
              "        143., 141.,  79., 292., 178.,  91., 116.,  86., 122.,  72., 129.,\n",
              "        142.,  90., 158.,  39., 196., 222., 277.,  99., 196., 202., 155.,\n",
              "         77., 191.,  70.,  73.,  49.,  65., 263., 248., 296., 214., 185.,\n",
              "         78.,  93., 252., 150.,  77., 208.,  77., 108., 160.,  53., 220.,\n",
              "        154., 259.,  90., 246., 124.,  67.,  72., 257., 262., 275., 177.,\n",
              "         71.,  47., 187., 125.,  78.,  51., 258., 215., 303., 243.,  91.,\n",
              "        150., 310., 153., 346.,  63.,  89.,  50.,  39., 103., 308., 116.,\n",
              "        145.,  74.,  45., 115., 264.,  87., 202., 127., 182., 241.,  66.,\n",
              "         94., 283.,  64., 102., 200., 265.,  94., 230., 181., 156., 233.,\n",
              "         60., 219.,  80.,  68., 332., 248.,  84., 200.,  55.,  85.,  89.,\n",
              "         31., 129.,  83., 275.,  65., 198., 236., 253., 124.,  44., 172.,\n",
              "        114., 142., 109., 180., 144., 163., 147.,  97., 220., 190., 109.,\n",
              "        191., 122., 230., 242., 248., 249., 192., 131., 237.,  78., 135.,\n",
              "        244., 199., 270., 164.,  72.,  96., 306.,  91., 214.,  95., 216.,\n",
              "        263., 178., 113., 200., 139., 139.,  88., 148.,  88., 243.,  71.,\n",
              "         77., 109., 272.,  60.,  54., 221.,  90., 311., 281., 182., 321.,\n",
              "         58., 262., 206., 233., 242., 123., 167.,  63., 197.,  71., 168.,\n",
              "        140., 217., 121., 235., 245.,  40.,  52., 104., 132.,  88.,  69.,\n",
              "        219.,  72., 201., 110.,  51., 277.,  63., 118.,  69., 273., 258.,\n",
              "         43., 198., 242., 232., 175.,  93., 168., 275., 293., 281.,  72.,\n",
              "        140., 189., 181., 209., 136., 261., 113., 131., 174., 257.,  55.,\n",
              "         84.,  42., 146., 212., 233.,  91., 111., 152., 120.,  67., 310.,\n",
              "         94., 183.,  66., 173.,  72.,  49.,  64.,  48., 178., 104., 132.,\n",
              "        220.,  57.]),\n",
              " 'frame': None,\n",
              " 'DESCR': '.. _diabetes_dataset:\\n\\nDiabetes dataset\\n----------------\\n\\nTen baseline variables, age, sex, body mass index, average blood\\npressure, and six blood serum measurements were obtained for each of n =\\n442 diabetes patients, as well as the response of interest, a\\nquantitative measure of disease progression one year after baseline.\\n\\n**Data Set Characteristics:**\\n\\n  :Number of Instances: 442\\n\\n  :Number of Attributes: First 10 columns are numeric predictive values\\n\\n  :Target: Column 11 is a quantitative measure of disease progression one year after baseline\\n\\n  :Attribute Information:\\n      - age     age in years\\n      - sex\\n      - bmi     body mass index\\n      - bp      average blood pressure\\n      - s1      tc, total serum cholesterol\\n      - s2      ldl, low-density lipoproteins\\n      - s3      hdl, high-density lipoproteins\\n      - s4      tch, total cholesterol / HDL\\n      - s5      ltg, possibly log of serum triglycerides level\\n      - s6      glu, blood sugar level\\n\\nNote: Each of these 10 feature variables have been mean centered and scaled by the standard deviation times the square root of `n_samples` (i.e. the sum of squares of each column totals 1).\\n\\nSource URL:\\nhttps://www4.stat.ncsu.edu/~boos/var.select/diabetes.html\\n\\nFor more information see:\\nBradley Efron, Trevor Hastie, Iain Johnstone and Robert Tibshirani (2004) \"Least Angle Regression,\" Annals of Statistics (with discussion), 407-499.\\n(https://web.stanford.edu/~hastie/Papers/LARS/LeastAngle_2002.pdf)\\n',\n",
              " 'feature_names': ['age',\n",
              "  'sex',\n",
              "  'bmi',\n",
              "  'bp',\n",
              "  's1',\n",
              "  's2',\n",
              "  's3',\n",
              "  's4',\n",
              "  's5',\n",
              "  's6'],\n",
              " 'data_filename': 'diabetes_data_raw.csv.gz',\n",
              " 'target_filename': 'diabetes_target.csv.gz',\n",
              " 'data_module': 'sklearn.datasets.data'}"
            ]
          },
          "metadata": {},
          "execution_count": 17
        }
      ]
    },
    {
      "cell_type": "code",
      "source": [
        "from sklearn.datasets import load_diabetes\n",
        "load_diabetes(return_X_y=True)"
      ],
      "metadata": {
        "colab": {
          "base_uri": "https://localhost:8080/"
        },
        "id": "x6h_Bhlo5lGO",
        "outputId": "82ca30ce-979e-4d53-ecd6-3fbfc8ba86bb"
      },
      "execution_count": 13,
      "outputs": [
        {
          "output_type": "execute_result",
          "data": {
            "text/plain": [
              "(array([[ 0.03807591,  0.05068012,  0.06169621, ..., -0.00259226,\n",
              "          0.01990749, -0.01764613],\n",
              "        [-0.00188202, -0.04464164, -0.05147406, ..., -0.03949338,\n",
              "         -0.06833155, -0.09220405],\n",
              "        [ 0.08529891,  0.05068012,  0.04445121, ..., -0.00259226,\n",
              "          0.00286131, -0.02593034],\n",
              "        ...,\n",
              "        [ 0.04170844,  0.05068012, -0.01590626, ..., -0.01107952,\n",
              "         -0.04688253,  0.01549073],\n",
              "        [-0.04547248, -0.04464164,  0.03906215, ...,  0.02655962,\n",
              "          0.04452873, -0.02593034],\n",
              "        [-0.04547248, -0.04464164, -0.0730303 , ..., -0.03949338,\n",
              "         -0.00422151,  0.00306441]]),\n",
              " array([151.,  75., 141., 206., 135.,  97., 138.,  63., 110., 310., 101.,\n",
              "         69., 179., 185., 118., 171., 166., 144.,  97., 168.,  68.,  49.,\n",
              "         68., 245., 184., 202., 137.,  85., 131., 283., 129.,  59., 341.,\n",
              "         87.,  65., 102., 265., 276., 252.,  90., 100.,  55.,  61.,  92.,\n",
              "        259.,  53., 190., 142.,  75., 142., 155., 225.,  59., 104., 182.,\n",
              "        128.,  52.,  37., 170., 170.,  61., 144.,  52., 128.,  71., 163.,\n",
              "        150.,  97., 160., 178.,  48., 270., 202., 111.,  85.,  42., 170.,\n",
              "        200., 252., 113., 143.,  51.,  52., 210.,  65., 141.,  55., 134.,\n",
              "         42., 111.,  98., 164.,  48.,  96.,  90., 162., 150., 279.,  92.,\n",
              "         83., 128., 102., 302., 198.,  95.,  53., 134., 144., 232.,  81.,\n",
              "        104.,  59., 246., 297., 258., 229., 275., 281., 179., 200., 200.,\n",
              "        173., 180.,  84., 121., 161.,  99., 109., 115., 268., 274., 158.,\n",
              "        107.,  83., 103., 272.,  85., 280., 336., 281., 118., 317., 235.,\n",
              "         60., 174., 259., 178., 128.,  96., 126., 288.,  88., 292.,  71.,\n",
              "        197., 186.,  25.,  84.,  96., 195.,  53., 217., 172., 131., 214.,\n",
              "         59.,  70., 220., 268., 152.,  47.,  74., 295., 101., 151., 127.,\n",
              "        237., 225.,  81., 151., 107.,  64., 138., 185., 265., 101., 137.,\n",
              "        143., 141.,  79., 292., 178.,  91., 116.,  86., 122.,  72., 129.,\n",
              "        142.,  90., 158.,  39., 196., 222., 277.,  99., 196., 202., 155.,\n",
              "         77., 191.,  70.,  73.,  49.,  65., 263., 248., 296., 214., 185.,\n",
              "         78.,  93., 252., 150.,  77., 208.,  77., 108., 160.,  53., 220.,\n",
              "        154., 259.,  90., 246., 124.,  67.,  72., 257., 262., 275., 177.,\n",
              "         71.,  47., 187., 125.,  78.,  51., 258., 215., 303., 243.,  91.,\n",
              "        150., 310., 153., 346.,  63.,  89.,  50.,  39., 103., 308., 116.,\n",
              "        145.,  74.,  45., 115., 264.,  87., 202., 127., 182., 241.,  66.,\n",
              "         94., 283.,  64., 102., 200., 265.,  94., 230., 181., 156., 233.,\n",
              "         60., 219.,  80.,  68., 332., 248.,  84., 200.,  55.,  85.,  89.,\n",
              "         31., 129.,  83., 275.,  65., 198., 236., 253., 124.,  44., 172.,\n",
              "        114., 142., 109., 180., 144., 163., 147.,  97., 220., 190., 109.,\n",
              "        191., 122., 230., 242., 248., 249., 192., 131., 237.,  78., 135.,\n",
              "        244., 199., 270., 164.,  72.,  96., 306.,  91., 214.,  95., 216.,\n",
              "        263., 178., 113., 200., 139., 139.,  88., 148.,  88., 243.,  71.,\n",
              "         77., 109., 272.,  60.,  54., 221.,  90., 311., 281., 182., 321.,\n",
              "         58., 262., 206., 233., 242., 123., 167.,  63., 197.,  71., 168.,\n",
              "        140., 217., 121., 235., 245.,  40.,  52., 104., 132.,  88.,  69.,\n",
              "        219.,  72., 201., 110.,  51., 277.,  63., 118.,  69., 273., 258.,\n",
              "         43., 198., 242., 232., 175.,  93., 168., 275., 293., 281.,  72.,\n",
              "        140., 189., 181., 209., 136., 261., 113., 131., 174., 257.,  55.,\n",
              "         84.,  42., 146., 212., 233.,  91., 111., 152., 120.,  67., 310.,\n",
              "         94., 183.,  66., 173.,  72.,  49.,  64.,  48., 178., 104., 132.,\n",
              "        220.,  57.]))"
            ]
          },
          "metadata": {},
          "execution_count": 13
        }
      ]
    },
    {
      "cell_type": "markdown",
      "source": [
        "In the above code, I imported load_diabetes dataset and loaded it. Before loading, I gave some condition (return_X_y=true) which is going to display the data from the dataset as two arrays.\n",
        "\n",
        "Data Array is a multi-dimensional array where each row represents a patient, and each column represents a feature. The features include charteristics of patients which are realted to diabetes such as age, sex, body mass index (BMI) etc.\n",
        "\n",
        "Target Array contains the quantitative measure of disease progression one year after baseline for each patient. This data is predicted by the model based on the data given as data array.\n",
        "\n",
        "'X' would be data array, and 'y' would be target array."
      ],
      "metadata": {
        "id": "_cQ1j5TW6VVD"
      }
    },
    {
      "cell_type": "code",
      "source": [
        "from sklearn.datasets import load_diabetes\n",
        "X, y = load_diabetes(return_X_y=True)"
      ],
      "metadata": {
        "id": "Wg_lO8mL6SwQ"
      },
      "execution_count": 16,
      "outputs": []
    },
    {
      "cell_type": "markdown",
      "source": [
        "The above code finalizes 'X' and 'y' for the script and now they can be used in scikit model across any scripts."
      ],
      "metadata": {
        "id": "N6pYYETP9Cwv"
      }
    },
    {
      "cell_type": "code",
      "source": [
        "from sklearn.neighbors import KNeighborsRegressor\n",
        "\n",
        "from sklearn.datasets import load_diabetes\n",
        "X, y = load_diabetes(return_X_y=True)\n",
        "\n",
        "mod = KNeighborsRegressor()\n",
        "mod.fit(X, y)\n",
        "mod.predict(X)\n"
      ],
      "metadata": {
        "colab": {
          "base_uri": "https://localhost:8080/"
        },
        "id": "q9yL0KvS9ju8",
        "outputId": "22462af3-6db8-4850-ed07-73eee1062caf"
      },
      "execution_count": 19,
      "outputs": [
        {
          "output_type": "execute_result",
          "data": {
            "text/plain": [
              "array([181.4,  80.8, 150.8, 203.4, 119.4, 108. ,  83.6, 120.6, 127.8,\n",
              "       187.8, 121.4, 129.6,  98.8, 166.8, 106.6, 144. , 174.4, 177.8,\n",
              "       132.8, 142. ,  80. ,  73.4, 113.4, 273.8, 151.4, 126.4, 132. ,\n",
              "       137.8, 107.2, 192.2, 154.6,  65. , 287.8,  78.6,  78.6, 109.6,\n",
              "       175.2, 172.6, 235. ,  76.4, 158.6, 113.4,  97.6,  74. , 257. ,\n",
              "        92.8, 163. , 150.2, 110.8, 145.4, 121.2, 152.4, 130.6,  94. ,\n",
              "       157.2,  88.8, 137.2, 101. , 132.2, 156.6, 115. , 124. ,  65.8,\n",
              "       132.4, 128.4, 154.4, 119.6,  88.8,  96.2, 136.6,  81.6, 234.6,\n",
              "       174.4, 109.8, 133.2,  72. , 171.8, 106.6, 179.4, 121.6, 134.4,\n",
              "       107.8,  69.2, 141.2,  80. , 108.6,  92.8, 124.6,  68.6, 110.6,\n",
              "        95. , 136.4, 153.4,  82.8,  83.8, 126.8, 170.6, 165.8,  88.6,\n",
              "       126.2, 158.8,  86.2, 151.8, 155.4, 139.4,  87. , 115. , 143.2,\n",
              "       181. , 183. ,  71.2,  99.4, 134.8, 202. , 277.4, 165.4, 255.4,\n",
              "       207. , 126.6, 132.2, 130. , 202. , 232.4, 158.2, 136.4, 166.4,\n",
              "       111.6,  92.8, 112.2, 204.4, 255.4, 105.4, 106. ,  77. , 155.2,\n",
              "       250.8,  85.6, 261.2, 265.2, 250.2, 163.6, 272.4, 207.4,  99.6,\n",
              "       192.6, 220.4, 142.8, 235.4,  89. , 143. , 223.6, 121.6, 221.2,\n",
              "       131.4, 180.4, 233. , 122.6, 122.4, 100.2, 230.6,  85.2, 227.6,\n",
              "       129.6, 248.2, 135.6,  88.2,  73.4, 211.4, 261.6, 189.2,  71.2,\n",
              "        64.2, 278.8,  93. , 119.2, 103. , 221.8, 199.4, 106.8, 185.6,\n",
              "       112.2,  75.8, 193.8, 174.8, 237.2, 125.8, 151.4,  98. , 165. ,\n",
              "       114. , 193.2, 123.4,  94.6, 158.4, 130.2, 192.6,  74.2, 169. ,\n",
              "       166.4, 184.6,  96.8,  71.4, 166.6, 211.8, 201.8, 192.4, 173.2,\n",
              "       232. , 234.8, 135.2,  97. , 148.8, 134.6,  92.8,  89.6, 258.8,\n",
              "       230.8, 241.2, 169.4, 142.2,  82.8, 136.4, 134. , 146.8,  62.8,\n",
              "       181. ,  84.6, 110.2, 146.8,  65. , 193.8, 126. , 174.6,  98.2,\n",
              "       246. , 144.6, 133.8,  81.8, 143.6, 139. , 244.6, 136.6,  65.4,\n",
              "        87.6,  89.6, 128.8, 121.4, 102. , 171.4, 179. , 271.6, 239.6,\n",
              "       142.6, 168. , 278. , 117. , 220.4,  96. , 122.4, 101.8,  79.4,\n",
              "       124.4, 274.8,  84.8, 105. ,  79.6,  62.2, 156.8, 265.2, 116.4,\n",
              "       179. , 156. , 148.8, 203.6, 168.6, 116.6, 170.6,  82.8, 108.2,\n",
              "        96.2, 220. ,  93. , 156.2,  87. , 126.4, 215. ,  69.4, 139. ,\n",
              "        83.2, 150.8, 265.2, 198. ,  84. , 173.2,  74. ,  97.8,  83.2,\n",
              "        78.8, 145.6, 105. , 212. , 133.2, 195.2, 223.6, 131.2, 186.4,\n",
              "       136.6, 156.8,  85. , 141. , 226.6, 167.8, 101.2, 209.8, 142.4,\n",
              "        76.2, 153.6, 152.8, 137.4, 201. , 146.6, 245.6, 264.4, 247.6,\n",
              "       156.8, 201.8, 110.8, 207.2, 111.4,  77.8, 170.6, 128.4, 266.4,\n",
              "       173. ,  81.4, 106.2, 237. , 127.8, 131.8, 135.6, 169. , 167.4,\n",
              "       167.6, 180.2, 185. , 139.2, 173.2,  97.6, 140.2,  97.8, 273.4,\n",
              "        68. ,  74.6, 130.4, 198.2,  97.8,  63.4, 139.8,  91.6, 204.6,\n",
              "       192.8, 111.2, 265.2,  94.2, 171.8, 211. , 192.8, 228.2, 235.8,\n",
              "       167.4,  88.2, 197.2,  69.6, 181.4, 161.4, 221.2, 193.8, 188.6,\n",
              "       167.6, 101.2, 181.8,  94. , 228.4, 110. , 157.4, 156.2, 120.2,\n",
              "       124.4, 131.4,  67.4, 260.4,  88.2, 108.2, 108. , 242.2, 172.6,\n",
              "        61.2, 189. , 163. , 217. , 169. ,  75. , 132.4, 208.4, 184.2,\n",
              "       238.6, 110.8, 164.2, 202.2, 183.2, 169. , 138.8, 239. , 120.6,\n",
              "       144. , 166.4, 241.8, 103.8, 141.6,  83.8, 124.4, 191.8, 207.8,\n",
              "       179.6, 119.6, 108. , 189.6, 130.8, 295.2,  76.4, 154.4, 132.8,\n",
              "       213.6,  86.6, 100.8, 102. ,  68.2, 156. , 134. , 100.8, 176. ,\n",
              "        80.4])"
            ]
          },
          "metadata": {},
          "execution_count": 19
        }
      ]
    },
    {
      "cell_type": "markdown",
      "source": [
        "The code above is for predicting target array from the data array using KNeighbours regression method. I can import that sub module from sklearn to predict the values.\n",
        "First we I will be calling the KNeighbours model and then I used fit method for training the data and predict method to predict the values."
      ],
      "metadata": {
        "id": "x68d8tF6_YDx"
      }
    },
    {
      "cell_type": "code",
      "source": [
        "from sklearn.linear_model import LinearRegression\n",
        "\n",
        "from sklearn.datasets import load_diabetes\n",
        "X, y = load_diabetes(return_X_y=True)\n",
        "\n",
        "mod = LinearRegression()\n",
        "mod.fit(X, y)\n",
        "mod.predict(X)"
      ],
      "metadata": {
        "colab": {
          "base_uri": "https://localhost:8080/"
        },
        "id": "GgLS0oik_WwM",
        "outputId": "9be08a09-a166-47ae-fc3b-408bcbb0e31e"
      },
      "execution_count": 20,
      "outputs": [
        {
          "output_type": "execute_result",
          "data": {
            "text/plain": [
              "array([206.11667725,  68.07103297, 176.88279035, 166.91445843,\n",
              "       128.46225834, 106.35191443,  73.89134662, 118.85423042,\n",
              "       158.80889721, 213.58462442,  97.07481511,  95.10108423,\n",
              "       115.06915952, 164.67656842, 103.07814257, 177.17487964,\n",
              "       211.7570922 , 182.84134823, 148.00326937, 124.01754066,\n",
              "       120.33362197,  85.80068961, 113.1134589 , 252.45225837,\n",
              "       165.48779206, 147.71997564,  97.12871541, 179.09358468,\n",
              "       129.05345958, 184.7811403 , 158.71516713,  69.47575778,\n",
              "       261.50385365, 112.82234716,  78.37318279,  87.66360785,\n",
              "       207.92114668, 157.87641942, 240.84708073, 136.93257456,\n",
              "       153.48044608,  74.15426666, 145.62742227,  77.82978811,\n",
              "       221.07832768, 125.21957584, 142.6029986 , 109.49562511,\n",
              "        73.14181818, 189.87117754, 157.9350104 , 169.55699526,\n",
              "       134.1851441 , 157.72539008, 139.11104979,  72.73116856,\n",
              "       207.82676612,  80.11171342, 104.08335958, 134.57871054,\n",
              "       114.23552012, 180.67628279,  61.12935368,  98.72404613,\n",
              "       113.79577026, 189.95771575, 148.98351571, 124.34152283,\n",
              "       114.8395504 , 121.99957578,  73.91017087, 236.71054289,\n",
              "       142.31126791, 124.51672384, 150.84073896, 127.75230658,\n",
              "       191.16896496,  77.05671154, 166.82164929,  91.00591229,\n",
              "       174.75156797, 122.83451589,  63.27231315, 151.99867317,\n",
              "        53.72959077, 166.0050229 ,  42.6491333 , 153.04229493,\n",
              "        80.54701716, 106.90148495,  79.93968011, 187.1672654 ,\n",
              "       192.5989033 ,  61.07398313, 107.4076912 , 125.04307496,\n",
              "       207.72402726, 214.21248827, 123.47464895, 139.16439034,\n",
              "       168.21372017, 106.92902558, 150.64748328, 157.92364009,\n",
              "       152.75958287, 116.22381927,  73.03167734, 155.67052006,\n",
              "       230.1417777 , 143.49797317,  38.09587272, 121.8593267 ,\n",
              "       152.79404663, 207.99702587, 291.23106133, 189.17571129,\n",
              "       214.02877593, 235.18106509, 165.38480498, 151.2469168 ,\n",
              "       156.57659557, 200.44066818, 219.35193167, 174.78830391,\n",
              "       169.23118221, 187.87537099,  57.49340026, 108.54836058,\n",
              "        92.68731024, 210.87347343, 245.47097701,  69.84285129,\n",
              "       113.03485904,  68.42650654, 141.69639374, 239.46240737,\n",
              "        58.37858726, 235.47123197, 254.92309543, 253.30708899,\n",
              "       155.51063293, 230.55961445, 170.44330954, 117.9953395 ,\n",
              "       178.55406527, 240.07119308, 190.33892524, 228.66470581,\n",
              "       114.24456339, 178.36552308, 209.091817  , 144.85615197,\n",
              "       200.65926745, 121.34295733, 150.50993019, 199.01879825,\n",
              "       146.27926469, 124.02163345,  85.25913019, 235.16173729,\n",
              "        82.1730808 , 231.29474031, 144.36940116, 197.04628448,\n",
              "       146.99841953,  77.18813284,  59.37368356, 262.68557988,\n",
              "       225.12900796, 220.20301952,  46.59651844,  88.10194612,\n",
              "       221.77450036,  97.25199783, 164.48838425, 119.90096817,\n",
              "       157.80220788, 223.08012207,  99.59081773, 165.84386951,\n",
              "       179.47680741,  89.83353846, 171.82590335, 158.36419935,\n",
              "       201.48185539, 186.39194958, 197.47424761,  66.57371647,\n",
              "       154.59985312, 116.18319159, 195.91755793, 128.04834496,\n",
              "        91.20395862, 140.57223765, 155.22669143, 169.70326581,\n",
              "        98.7573858 , 190.14568824, 142.51704894, 177.27157771,\n",
              "        95.30812216,  69.06191507, 164.16391317, 198.0659024 ,\n",
              "       178.25996632, 228.58539684, 160.67104137, 212.28734795,\n",
              "       222.4833913 , 172.85421282, 125.27946793, 174.72103207,\n",
              "       152.38094643,  98.58135665,  99.73771331, 262.29507095,\n",
              "       223.74033222, 221.33976142, 133.61470602, 145.42828204,\n",
              "        53.04569008, 141.82052358, 153.68617582, 125.22290891,\n",
              "        77.25168449, 230.26180811,  78.9090807 , 105.2051755 ,\n",
              "       117.99622779,  99.06233889, 166.55796947, 159.34137227,\n",
              "       158.27448255, 143.05684078, 231.55890118, 176.64724258,\n",
              "       187.23580712,  65.39099908, 190.66218796, 179.75181691,\n",
              "       234.9080532 , 119.15669025,  85.63551834, 100.8597527 ,\n",
              "       140.41937377, 101.83524022, 120.66560385,  83.0664276 ,\n",
              "       234.58488012, 245.15862773, 263.26954282, 274.87127261,\n",
              "       180.67257769, 203.05642297, 254.21625849, 118.44300922,\n",
              "       268.45369506, 104.83843473, 115.86820464, 140.45857194,\n",
              "        58.46948192, 129.83145265, 263.78607272,  45.00934573,\n",
              "       123.28890007, 131.0856888 ,  34.89181681, 138.35467112,\n",
              "       244.30103923,  89.95923929, 192.07096194, 164.33017386,\n",
              "       147.74779723, 191.89092557, 176.44360299, 158.3490221 ,\n",
              "       189.19166962, 116.58117777, 111.449754  , 117.45232726,\n",
              "       165.79598354,  97.80405886, 139.54451791,  84.17319946,\n",
              "       159.93677518, 202.39971737,  80.48131518, 146.64558568,\n",
              "        79.05314048, 191.33777472, 220.67516721, 203.75017281,\n",
              "        92.86459928, 179.15576252,  81.79874055, 152.8290929 ,\n",
              "        76.80052219,  97.79590831, 106.8371012 , 123.83461591,\n",
              "       218.13908293, 126.01937664, 206.7587966 , 230.5767944 ,\n",
              "       122.05921633, 135.67824405, 126.37042532, 148.49374458,\n",
              "        88.07147107, 138.95823614, 203.8691938 , 172.55288732,\n",
              "       122.95701477, 213.92310163, 174.89158814, 110.07294222,\n",
              "       198.36584973, 173.25229067, 162.64748776, 193.31578983,\n",
              "       191.53493643, 284.13932209, 279.31133207, 216.00823829,\n",
              "       210.08668656, 216.21612991, 157.01450004, 224.06431372,\n",
              "       189.06103154, 103.56515315, 178.70270016, 111.81862434,\n",
              "       291.00196609, 182.64651752,  79.33315426,  86.33029851,\n",
              "       249.1510082 , 174.51537682, 122.10291074, 146.2718871 ,\n",
              "       170.65483847, 183.497196  , 163.36806262, 157.03297709,\n",
              "       144.42614949, 125.30053093, 177.50251197, 104.57681546,\n",
              "       132.17560518,  95.06210623, 249.89755705,  86.23824126,\n",
              "        61.99847009, 156.81295053, 192.32218372, 133.85525804,\n",
              "        93.67249793, 202.49572354,  52.54148927, 174.82799914,\n",
              "       196.91468873, 118.06336979, 235.29941812, 165.09438096,\n",
              "       160.41761959, 162.37786753, 254.05587268, 257.23492156,\n",
              "       197.5039462 , 184.06877122,  58.62131994, 194.39216636,\n",
              "       110.775815  , 142.20991224, 128.82520996, 180.13082199,\n",
              "       211.26488624, 169.59494046, 164.33851796, 136.23374077,\n",
              "       174.51001028,  74.67587343, 246.29432383, 114.14494406,\n",
              "       111.54552901, 140.0224376 , 109.99895704,  91.37283987,\n",
              "       163.01540596,  75.16804478, 254.06119047,  53.47338214,\n",
              "        98.48397565, 100.66315554, 258.58683032, 170.67256752,\n",
              "        61.91771186, 182.31148421, 171.26948629, 189.19505093,\n",
              "       187.18494664,  87.12170524, 148.37964317, 251.35815403,\n",
              "       199.69656904, 283.63576862,  50.85911237, 172.14766276,\n",
              "       204.05976093, 174.16540137, 157.93182911, 150.50028158,\n",
              "       232.97445368, 121.5814873 , 164.54245461, 172.67625919,\n",
              "       226.7768891 , 149.46832104,  99.13924946,  80.43418456,\n",
              "       140.16148637, 191.90710484, 199.28001608, 153.63277325,\n",
              "       171.80344337, 112.11054883, 162.60002916, 129.84290324,\n",
              "       258.03100468, 100.70810916, 115.87608197, 122.53559675,\n",
              "       218.1797988 ,  60.94350929, 131.09296884, 119.48376601,\n",
              "        52.60911672, 193.01756549, 101.05581371, 121.22668124,\n",
              "       211.85894518,  53.44727472])"
            ]
          },
          "metadata": {},
          "execution_count": 20
        }
      ]
    },
    {
      "cell_type": "markdown",
      "source": [
        "The advantage of using sklearn package is that we can use another model for the same data as they use same APIs and methods. In the first example, I have used KNRegressor but now I used LinearRegressor. Both predictions are a bit different as they use different concpets but the way we used them is same. SKLearn provides that flexibility of predicting values for two methods with same API and same process."
      ],
      "metadata": {
        "id": "TC2jWJNBIzfL"
      }
    },
    {
      "cell_type": "code",
      "source": [
        "from sklearn.neighbors import KNeighborsRegressor\n",
        "from sklearn.datasets import load_diabetes\n",
        "import matplotlib.pylab as plt\n",
        "\n",
        "X, y = load_diabetes(return_X_y=True)\n",
        "\n",
        "mod = KNeighborsRegressor().fit(X, y)\n",
        "pred = mod.predict(X)\n",
        "plt.scatter(pred, y)\n"
      ],
      "metadata": {
        "colab": {
          "base_uri": "https://localhost:8080/",
          "height": 447
        },
        "id": "H1U6jiFkJwar",
        "outputId": "4d144bfd-6477-4ff9-b036-70012f6d708c"
      },
      "execution_count": 21,
      "outputs": [
        {
          "output_type": "execute_result",
          "data": {
            "text/plain": [
              "<matplotlib.collections.PathCollection at 0x7ed8337b1720>"
            ]
          },
          "metadata": {},
          "execution_count": 21
        },
        {
          "output_type": "display_data",
          "data": {
            "text/plain": [
              "<Figure size 640x480 with 1 Axes>"
            ],
            "image/png": "[encoded data removed]"
          },
          "metadata": {}
        }
      ]
    },
    {
      "cell_type": "markdown",
      "source": [
        "The above code gave us a scatter plot of the values given by the model (KN Regressor)."
      ],
      "metadata": {
        "id": "nZqCx6-3QiZu"
      }
    },
    {
      "cell_type": "code",
      "source": [
        "from sklearn.neighbors import KNeighborsRegressor\n",
        "from sklearn.preprocessing import StandardScaler\n",
        "from sklearn.datasets import load_diabetes\n",
        "from sklearn.pipeline import Pipeline\n",
        "import matplotlib.pylab as plt\n",
        "\n",
        "X, y = load_diabetes(return_X_y=True)\n",
        "\n",
        "pipe = Pipeline([\n",
        "    (\"scale\", StandardScaler()),\n",
        "    (\"model\", KNeighborsRegressor())\n",
        "])\n",
        "pred = pipe.fit(X, y).predict(X)\n",
        "plt.scatter(pred, y)"
      ],
      "metadata": {
        "colab": {
          "base_uri": "https://localhost:8080/",
          "height": 447
        },
        "id": "0t5EfJd7QuvG",
        "outputId": "4ad27000-cf51-415a-d1e9-f52302a91cd3"
      },
      "execution_count": 1,
      "outputs": [
        {
          "output_type": "execute_result",
          "data": {
            "text/plain": [
              "<matplotlib.collections.PathCollection at 0x7deadd22e470>"
            ]
          },
          "metadata": {},
          "execution_count": 1
        },
        {
          "output_type": "display_data",
          "data": {
            "text/plain": [
              "<Figure size 640x480 with 1 Axes>"
            ],
            "image/png": "[encoded data removed]"
          },
          "metadata": {}
        }
      ]
    },
    {
      "cell_type": "markdown",
      "source": [
        "Above code uses pipeline concpet and improves our scale plot diagram.\n",
        "Adding preprocessing steps, such as scaling or normalization, before applying machine learning models is often necessary for several reasons, especially when the features of your dataset have different scales or units.\n",
        "There are many disturbances in the previous code, then we need to update definition of model and preprocess the data before giving to the model.\n",
        "\n",
        "If you take KNN, it will calculate the distance between points to determine their similarity. If one feature has a much larger scale than another, it will dominate the distance calculation, leading to biased results. Scaling ensures that each feature contributes equally to the distance computation. Thats why Using a pipeline to combine preprocessing steps with model training simplifies the code and helps avoid mistakes, such as forgetting to scale the data before making predictions.\n",
        "\n",
        "But there is one problem with this pipleline approach. I will explain in detail with the next code."
      ],
      "metadata": {
        "id": "LR26g9fVkq9T"
      }
    },
    {
      "cell_type": "code",
      "source": [
        "from sklearn.neighbors import KNeighborsRegressor\n",
        "from sklearn.preprocessing import StandardScaler\n",
        "from sklearn.datasets import load_diabetes\n",
        "from sklearn.pipeline import Pipeline\n",
        "import matplotlib.pylab as plt\n",
        "\n",
        "X, y = load_diabetes(return_X_y=True)\n",
        "\n",
        "pipe = Pipeline([\n",
        "    (\"scale\", StandardScaler()),\n",
        "    (\"model\", KNeighborsRegressor(n_neighbors=1))\n",
        "])\n",
        "pred = pipe.fit(X, y).predict(X)\n",
        "plt.scatter(pred, y)"
      ],
      "metadata": {
        "colab": {
          "base_uri": "https://localhost:8080/",
          "height": 447
        },
        "id": "Btd-nzyLlIAv",
        "outputId": "4ca8e5ea-8a32-4e54-f6cb-36a527e35248"
      },
      "execution_count": 2,
      "outputs": [
        {
          "output_type": "execute_result",
          "data": {
            "text/plain": [
              "<matplotlib.collections.PathCollection at 0x7deada613df0>"
            ]
          },
          "metadata": {},
          "execution_count": 2
        },
        {
          "output_type": "display_data",
          "data": {
            "text/plain": [
              "<Figure size 640x480 with 1 Axes>"
            ],
            "image/png": "[encoded data removed]"
          },
          "metadata": {}
        }
      ]
    },
    {
      "cell_type": "markdown",
      "source": [
        "The problem occurs as the data we given to predicting is also present in the data that it is given as example. Lets take one example. Let a point be p with which we are finding k nearest neighbours for that point. Then we are going to nearest points along with that point also.\n",
        "\n",
        "When you change number of points to 1, you will be getting that prediction is hundred percent accurate but the thing is that, can we trust if blindly, how can we get accurate details and how many neighbours must be chosen to get accurate result for the model."
      ],
      "metadata": {
        "id": "_fEt96gcmH2l"
      }
    },
    {
      "cell_type": "code",
      "source": [
        "from sklearn.datasets import load_diabetes\n",
        "from sklearn.neighbors import KNeighborsRegressor\n",
        "from sklearn.preprocessing import StandardScaler\n",
        "from sklearn.pipeline import Pipeline\n",
        "from sklearn.model_selection import GridSearchCV\n",
        "import pandas as pd\n",
        "\n",
        "mod = GridSearchCV(estimator=pipe,\n",
        "                   param_grid={\n",
        "                     'model__n_neighbors': [1, 2, 3, 4, 5, 6, 7, 8, 9, 10]\n",
        "                   },\n",
        "                   cv=3)\n",
        "mod.fit(X, y);"
      ],
      "metadata": {
        "id": "MY2JOYSHm7K_"
      },
      "execution_count": 4,
      "outputs": []
    },
    {
      "cell_type": "markdown",
      "source": [
        "Now the code we have used is based on GridSearch CV concept. The first thing to be deciding is how many neighbours must be taken, that will be taken care of GridSearch CV.\n",
        "Next thing we worried about is if the data we are predicting is from the training set, GridSearch CV enables cross verification concpet where the data part to be predicted is taken from the other part. Every time the different dataset is taken, it is going to change the position of predicting and training data again and again by making sure that each time data about to predict is different than data to read."
      ],
      "metadata": {
        "id": "dxO3CbGvoISt"
      }
    },
    {
      "cell_type": "code",
      "source": [
        "pd.DataFrame(mod.cv_results_)"
      ],
      "metadata": {
        "colab": {
          "base_uri": "https://localhost:8080/",
          "height": 556
        },
        "id": "tHeeF6nduTG4",
        "outputId": "941ed895-2613-4c40-8d5e-79f6dbadd128"
      },
      "execution_count": 5,
      "outputs": [
        {
          "output_type": "execute_result",
          "data": {
            "text/plain": [
              "   mean_fit_time  std_fit_time  mean_score_time  std_score_time  \\\n",
              "0       0.001433      0.000255         0.001608        0.000084   \n",
              "1       0.001204      0.000024         0.001673        0.000099   \n",
              "2       0.001192      0.000006         0.001660        0.000016   \n",
              "3       0.001237      0.000058         0.001710        0.000005   \n",
              "4       0.001199      0.000003         0.001782        0.000028   \n",
              "5       0.001465      0.000380         0.002059        0.000354   \n",
              "6       0.001403      0.000281         0.001933        0.000052   \n",
              "7       0.001620      0.000292         0.002367        0.000090   \n",
              "8       0.001299      0.000080         0.002016        0.000039   \n",
              "9       0.001217      0.000012         0.001999        0.000061   \n",
              "\n",
              "  param_model__n_neighbors                      params  split0_test_score  \\\n",
              "0                        1   {'model__n_neighbors': 1}           0.105976   \n",
              "1                        2   {'model__n_neighbors': 2}           0.268889   \n",
              "2                        3   {'model__n_neighbors': 3}           0.333057   \n",
              "3                        4   {'model__n_neighbors': 4}           0.342407   \n",
              "4                        5   {'model__n_neighbors': 5}           0.358865   \n",
              "5                        6   {'model__n_neighbors': 6}           0.372665   \n",
              "6                        7   {'model__n_neighbors': 7}           0.412584   \n",
              "7                        8   {'model__n_neighbors': 8}           0.414478   \n",
              "8                        9   {'model__n_neighbors': 9}           0.414191   \n",
              "9                       10  {'model__n_neighbors': 10}           0.408989   \n",
              "\n",
              "   split1_test_score  split2_test_score  mean_test_score  std_test_score  \\\n",
              "0           0.124092          -0.158523         0.023849        0.129168   \n",
              "1           0.339379           0.264563         0.290944        0.034295   \n",
              "2           0.382744           0.356899         0.357567        0.020290   \n",
              "3           0.404701           0.409910         0.385673        0.030668   \n",
              "4           0.377198           0.412549         0.382871        0.022280   \n",
              "5           0.389923           0.436389         0.399659        0.026911   \n",
              "6           0.393681           0.446147         0.417471        0.021696   \n",
              "7           0.409779           0.485850         0.436702        0.034806   \n",
              "8           0.412035           0.528462         0.451563        0.054383   \n",
              "9           0.405303           0.544371         0.452888        0.064706   \n",
              "\n",
              "   rank_test_score  \n",
              "0               10  \n",
              "1                9  \n",
              "2                8  \n",
              "3                6  \n",
              "4                7  \n",
              "5                5  \n",
              "6                4  \n",
              "7                3  \n",
              "8                2  \n",
              "9                1  "
            ],
            "text/html": [
              "\n",
              "  <div id=\"df-00f643b4-2189-4bad-a65d-ce4c5588c52c\" class=\"colab-df-container\">\n",
              "    <div>\n",
              "<style scoped>\n",
              "    .dataframe tbody tr th:only-of-type {\n",
              "        vertical-align: middle;\n",
              "    }\n",
              "\n",
              "    .dataframe tbody tr th {\n",
              "        vertical-align: top;\n",
              "    }\n",
              "\n",
              "    .dataframe thead th {\n",
              "        text-align: right;\n",
              "    }\n",
              "</style>\n",
              "<table border=\"1\" class=\"dataframe\">\n",
              "  <thead>\n",
              "    <tr style=\"text-align: right;\">\n",
              "      <th></th>\n",
              "      <th>mean_fit_time</th>\n",
              "      <th>std_fit_time</th>\n",
              "      <th>mean_score_time</th>\n",
              "      <th>std_score_time</th>\n",
              "      <th>param_model__n_neighbors</th>\n",
              "      <th>params</th>\n",
              "      <th>split0_test_score</th>\n",
              "      <th>split1_test_score</th>\n",
              "      <th>split2_test_score</th>\n",
              "      <th>mean_test_score</th>\n",
              "      <th>std_test_score</th>\n",
              "      <th>rank_test_score</th>\n",
              "    </tr>\n",
              "  </thead>\n",
              "  <tbody>\n",
              "    <tr>\n",
              "      <th>0</th>\n",
              "      <td>0.001433</td>\n",
              "      <td>0.000255</td>\n",
              "      <td>0.001608</td>\n",
              "      <td>0.000084</td>\n",
              "      <td>1</td>\n",
              "      <td>{'model__n_neighbors': 1}</td>\n",
              "      <td>0.105976</td>\n",
              "      <td>0.124092</td>\n",
              "      <td>-0.158523</td>\n",
              "      <td>0.023849</td>\n",
              "      <td>0.129168</td>\n",
              "      <td>10</td>\n",
              "    </tr>\n",
              "    <tr>\n",
              "      <th>1</th>\n",
              "      <td>0.001204</td>\n",
              "      <td>0.000024</td>\n",
              "      <td>0.001673</td>\n",
              "      <td>0.000099</td>\n",
              "      <td>2</td>\n",
              "      <td>{'model__n_neighbors': 2}</td>\n",
              "      <td>0.268889</td>\n",
              "      <td>0.339379</td>\n",
              "      <td>0.264563</td>\n",
              "      <td>0.290944</td>\n",
              "      <td>0.034295</td>\n",
              "      <td>9</td>\n",
              "    </tr>\n",
              "    <tr>\n",
              "      <th>2</th>\n",
              "      <td>0.001192</td>\n",
              "      <td>0.000006</td>\n",
              "      <td>0.001660</td>\n",
              "      <td>0.000016</td>\n",
              "      <td>3</td>\n",
              "      <td>{'model__n_neighbors': 3}</td>\n",
              "      <td>0.333057</td>\n",
              "      <td>0.382744</td>\n",
              "      <td>0.356899</td>\n",
              "      <td>0.357567</td>\n",
              "      <td>0.020290</td>\n",
              "      <td>8</td>\n",
              "    </tr>\n",
              "    <tr>\n",
              "      <th>3</th>\n",
              "      <td>0.001237</td>\n",
              "      <td>0.000058</td>\n",
              "      <td>0.001710</td>\n",
              "      <td>0.000005</td>\n",
              "      <td>4</td>\n",
              "      <td>{'model__n_neighbors': 4}</td>\n",
              "      <td>0.342407</td>\n",
              "      <td>0.404701</td>\n",
              "      <td>0.409910</td>\n",
              "      <td>0.385673</td>\n",
              "      <td>0.030668</td>\n",
              "      <td>6</td>\n",
              "    </tr>\n",
              "    <tr>\n",
              "      <th>4</th>\n",
              "      <td>0.001199</td>\n",
              "      <td>0.000003</td>\n",
              "      <td>0.001782</td>\n",
              "      <td>0.000028</td>\n",
              "      <td>5</td>\n",
              "      <td>{'model__n_neighbors': 5}</td>\n",
              "      <td>0.358865</td>\n",
              "      <td>0.377198</td>\n",
              "      <td>0.412549</td>\n",
              "      <td>0.382871</td>\n",
              "      <td>0.022280</td>\n",
              "      <td>7</td>\n",
              "    </tr>\n",
              "    <tr>\n",
              "      <th>5</th>\n",
              "      <td>0.001465</td>\n",
              "      <td>0.000380</td>\n",
              "      <td>0.002059</td>\n",
              "      <td>0.000354</td>\n",
              "      <td>6</td>\n",
              "      <td>{'model__n_neighbors': 6}</td>\n",
              "      <td>0.372665</td>\n",
              "      <td>0.389923</td>\n",
              "      <td>0.436389</td>\n",
              "      <td>0.399659</td>\n",
              "      <td>0.026911</td>\n",
              "      <td>5</td>\n",
              "    </tr>\n",
              "    <tr>\n",
              "      <th>6</th>\n",
              "      <td>0.001403</td>\n",
              "      <td>0.000281</td>\n",
              "      <td>0.001933</td>\n",
              "      <td>0.000052</td>\n",
              "      <td>7</td>\n",
              "      <td>{'model__n_neighbors': 7}</td>\n",
              "      <td>0.412584</td>\n",
              "      <td>0.393681</td>\n",
              "      <td>0.446147</td>\n",
              "      <td>0.417471</td>\n",
              "      <td>0.021696</td>\n",
              "      <td>4</td>\n",
              "    </tr>\n",
              "    <tr>\n",
              "      <th>7</th>\n",
              "      <td>0.001620</td>\n",
              "      <td>0.000292</td>\n",
              "      <td>0.002367</td>\n",
              "      <td>0.000090</td>\n",
              "      <td>8</td>\n",
              "      <td>{'model__n_neighbors': 8}</td>\n",
              "      <td>0.414478</td>\n",
              "      <td>0.409779</td>\n",
              "      <td>0.485850</td>\n",
              "      <td>0.436702</td>\n",
              "      <td>0.034806</td>\n",
              "      <td>3</td>\n",
              "    </tr>\n",
              "    <tr>\n",
              "      <th>8</th>\n",
              "      <td>0.001299</td>\n",
              "      <td>0.000080</td>\n",
              "      <td>0.002016</td>\n",
              "      <td>0.000039</td>\n",
              "      <td>9</td>\n",
              "      <td>{'model__n_neighbors': 9}</td>\n",
              "      <td>0.414191</td>\n",
              "      <td>0.412035</td>\n",
              "      <td>0.528462</td>\n",
              "      <td>0.451563</td>\n",
              "      <td>0.054383</td>\n",
              "      <td>2</td>\n",
              "    </tr>\n",
              "    <tr>\n",
              "      <th>9</th>\n",
              "      <td>0.001217</td>\n",
              "      <td>0.000012</td>\n",
              "      <td>0.001999</td>\n",
              "      <td>0.000061</td>\n",
              "      <td>10</td>\n",
              "      <td>{'model__n_neighbors': 10}</td>\n",
              "      <td>0.408989</td>\n",
              "      <td>0.405303</td>\n",
              "      <td>0.544371</td>\n",
              "      <td>0.452888</td>\n",
              "      <td>0.064706</td>\n",
              "      <td>1</td>\n",
              "    </tr>\n",
              "  </tbody>\n",
              "</table>\n",
              "</div>\n",
              "    <div class=\"colab-df-buttons\">\n",
              "\n",
              "  <div class=\"colab-df-container\">\n",
              "    <button class=\"colab-df-convert\" onclick=\"convertToInteractive('df-00f643b4-2189-4bad-a65d-ce4c5588c52c')\"\n",
              "            title=\"Convert this dataframe to an interactive table.\"\n",
              "            style=\"display:none;\">\n",
              "\n",
              "  <svg xmlns=\"http://www.w3.org/2000/svg\" height=\"24px\" viewBox=\"0 -960 960 960\">\n",
              "    <path d=\"M120-120v-720h720v720H120Zm60-500h600v-160H180v160Zm220 220h160v-160H400v160Zm0 220h160v-160H400v160ZM180-400h160v-160H180v160Zm440 0h160v-160H620v160ZM180-180h160v-160H180v160Zm440 0h160v-160H620v160Z\"/>\n",
              "  </svg>\n",
              "    </button>\n",
              "\n",
              "  <style>\n",
              "    .colab-df-container {\n",
              "      display:flex;\n",
              "      gap: 12px;\n",
              "    }\n",
              "\n",
              "    .colab-df-convert {\n",
              "      background-color: #E8F0FE;\n",
              "      border: none;\n",
              "      border-radius: 50%;\n",
              "      cursor: pointer;\n",
              "      display: none;\n",
              "      fill: #1967D2;\n",
              "      height: 32px;\n",
              "      padding: 0 0 0 0;\n",
              "      width: 32px;\n",
              "    }\n",
              "\n",
              "    .colab-df-convert:hover {\n",
              "      background-color: #E2EBFA;\n",
              "      box-shadow: 0px 1px 2px rgba(60, 64, 67, 0.3), 0px 1px 3px 1px rgba(60, 64, 67, 0.15);\n",
              "      fill: #174EA6;\n",
              "    }\n",
              "\n",
              "    .colab-df-buttons div {\n",
              "      margin-bottom: 4px;\n",
              "    }\n",
              "\n",
              "    [theme=dark] .colab-df-convert {\n",
              "      background-color: #3B4455;\n",
              "      fill: #D2E3FC;\n",
              "    }\n",
              "\n",
              "    [theme=dark] .colab-df-convert:hover {\n",
              "      background-color: #434B5C;\n",
              "      box-shadow: 0px 1px 3px 1px rgba(0, 0, 0, 0.15);\n",
              "      filter: drop-shadow(0px 1px 2px rgba(0, 0, 0, 0.3));\n",
              "      fill: #FFFFFF;\n",
              "    }\n",
              "  </style>\n",
              "\n",
              "    <script>\n",
              "      const buttonEl =\n",
              "        document.querySelector('#df-00f643b4-2189-4bad-a65d-ce4c5588c52c button.colab-df-convert');\n",
              "      buttonEl.style.display =\n",
              "        google.colab.kernel.accessAllowed ? 'block' : 'none';\n",
              "\n",
              "      async function convertToInteractive(key) {\n",
              "        const element = document.querySelector('#df-00f643b4-2189-4bad-a65d-ce4c5588c52c');\n",
              "        const dataTable =\n",
              "          await google.colab.kernel.invokeFunction('convertToInteractive',\n",
              "                                                    [key], {});\n",
              "        if (!dataTable) return;\n",
              "\n",
              "        const docLinkHtml = 'Like what you see? Visit the ' +\n",
              "          '<a target=\"_blank\" href=https://colab.research.google.com/notebooks/data_table.ipynb>data table notebook</a>'\n",
              "          + ' to learn more about interactive tables.';\n",
              "        element.innerHTML = '';\n",
              "        dataTable['output_type'] = 'display_data';\n",
              "        await google.colab.output.renderOutput(dataTable, element);\n",
              "        const docLink = document.createElement('div');\n",
              "        docLink.innerHTML = docLinkHtml;\n",
              "        element.appendChild(docLink);\n",
              "      }\n",
              "    </script>\n",
              "  </div>\n",
              "\n",
              "\n",
              "<div id=\"df-967345ec-6802-4760-960d-567b71ed822e\">\n",
              "  <button class=\"colab-df-quickchart\" onclick=\"quickchart('df-967345ec-6802-4760-960d-567b71ed822e')\"\n",
              "            title=\"Suggest charts\"\n",
              "            style=\"display:none;\">\n",
              "\n",
              "<svg xmlns=\"http://www.w3.org/2000/svg\" height=\"24px\"viewBox=\"0 0 24 24\"\n",
              "     width=\"24px\">\n",
              "    <g>\n",
              "        <path d=\"M19 3H5c-1.1 0-2 .9-2 2v14c0 1.1.9 2 2 2h14c1.1 0 2-.9 2-2V5c0-1.1-.9-2-2-2zM9 17H7v-7h2v7zm4 0h-2V7h2v10zm4 0h-2v-4h2v4z\"/>\n",
              "    </g>\n",
              "</svg>\n",
              "  </button>\n",
              "\n",
              "<style>\n",
              "  .colab-df-quickchart {\n",
              "      --bg-color: #E8F0FE;\n",
              "      --fill-color: #1967D2;\n",
              "      --hover-bg-color: #E2EBFA;\n",
              "      --hover-fill-color: #174EA6;\n",
              "      --disabled-fill-color: #AAA;\n",
              "      --disabled-bg-color: #DDD;\n",
              "  }\n",
              "\n",
              "  [theme=dark] .colab-df-quickchart {\n",
              "      --bg-color: #3B4455;\n",
              "      --fill-color: #D2E3FC;\n",
              "      --hover-bg-color: #434B5C;\n",
              "      --hover-fill-color: #FFFFFF;\n",
              "      --disabled-bg-color: #3B4455;\n",
              "      --disabled-fill-color: #666;\n",
              "  }\n",
              "\n",
              "  .colab-df-quickchart {\n",
              "    background-color: var(--bg-color);\n",
              "    border: none;\n",
              "    border-radius: 50%;\n",
              "    cursor: pointer;\n",
              "    display: none;\n",
              "    fill: var(--fill-color);\n",
              "    height: 32px;\n",
              "    padding: 0;\n",
              "    width: 32px;\n",
              "  }\n",
              "\n",
              "  .colab-df-quickchart:hover {\n",
              "    background-color: var(--hover-bg-color);\n",
              "    box-shadow: 0 1px 2px rgba(60, 64, 67, 0.3), 0 1px 3px 1px rgba(60, 64, 67, 0.15);\n",
              "    fill: var(--button-hover-fill-color);\n",
              "  }\n",
              "\n",
              "  .colab-df-quickchart-complete:disabled,\n",
              "  .colab-df-quickchart-complete:disabled:hover {\n",
              "    background-color: var(--disabled-bg-color);\n",
              "    fill: var(--disabled-fill-color);\n",
              "    box-shadow: none;\n",
              "  }\n",
              "\n",
              "  .colab-df-spinner {\n",
              "    border: 2px solid var(--fill-color);\n",
              "    border-color: transparent;\n",
              "    border-bottom-color: var(--fill-color);\n",
              "    animation:\n",
              "      spin 1s steps(1) infinite;\n",
              "  }\n",
              "\n",
              "  @keyframes spin {\n",
              "    0% {\n",
              "      border-color: transparent;\n",
              "      border-bottom-color: var(--fill-color);\n",
              "      border-left-color: var(--fill-color);\n",
              "    }\n",
              "    20% {\n",
              "      border-color: transparent;\n",
              "      border-left-color: var(--fill-color);\n",
              "      border-top-color: var(--fill-color);\n",
              "    }\n",
              "    30% {\n",
              "      border-color: transparent;\n",
              "      border-left-color: var(--fill-color);\n",
              "      border-top-color: var(--fill-color);\n",
              "      border-right-color: var(--fill-color);\n",
              "    }\n",
              "    40% {\n",
              "      border-color: transparent;\n",
              "      border-right-color: var(--fill-color);\n",
              "      border-top-color: var(--fill-color);\n",
              "    }\n",
              "    60% {\n",
              "      border-color: transparent;\n",
              "      border-right-color: var(--fill-color);\n",
              "    }\n",
              "    80% {\n",
              "      border-color: transparent;\n",
              "      border-right-color: var(--fill-color);\n",
              "      border-bottom-color: var(--fill-color);\n",
              "    }\n",
              "    90% {\n",
              "      border-color: transparent;\n",
              "      border-bottom-color: var(--fill-color);\n",
              "    }\n",
              "  }\n",
              "</style>\n",
              "\n",
              "  <script>\n",
              "    async function quickchart(key) {\n",
              "      const quickchartButtonEl =\n",
              "        document.querySelector('#' + key + ' button');\n",
              "      quickchartButtonEl.disabled = true;  // To prevent multiple clicks.\n",
              "      quickchartButtonEl.classList.add('colab-df-spinner');\n",
              "      try {\n",
              "        const charts = await google.colab.kernel.invokeFunction(\n",
              "            'suggestCharts', [key], {});\n",
              "      } catch (error) {\n",
              "        console.error('Error during call to suggestCharts:', error);\n",
              "      }\n",
              "      quickchartButtonEl.classList.remove('colab-df-spinner');\n",
              "      quickchartButtonEl.classList.add('colab-df-quickchart-complete');\n",
              "    }\n",
              "    (() => {\n",
              "      let quickchartButtonEl =\n",
              "        document.querySelector('#df-967345ec-6802-4760-960d-567b71ed822e button');\n",
              "      quickchartButtonEl.style.display =\n",
              "        google.colab.kernel.accessAllowed ? 'block' : 'none';\n",
              "    })();\n",
              "  </script>\n",
              "</div>\n",
              "    </div>\n",
              "  </div>\n"
            ],
            "application/vnd.google.colaboratory.intrinsic+json": {
              "type": "dataframe",
              "repr_error": "'str' object has no attribute 'empty'"
            }
          },
          "metadata": {},
          "execution_count": 5
        }
      ]
    },
    {
      "cell_type": "markdown",
      "source": [
        "The data can be found in the form as table. The data in the form of table is presented in the form is dataframe."
      ],
      "metadata": {
        "id": "Xq9ZulLXuY1i"
      }
    },
    {
      "cell_type": "code",
      "source": [
        "print(load_diabetes()['DESCR'])"
      ],
      "metadata": {
        "colab": {
          "base_uri": "https://localhost:8080/"
        },
        "id": "BgiEQhlxu0lf",
        "outputId": "88d0bb54-cb55-4fb6-b9cb-2445a2a1c644"
      },
      "execution_count": 6,
      "outputs": [
        {
          "output_type": "stream",
          "name": "stdout",
          "text": [
            ".. _diabetes_dataset:\n",
            "\n",
            "Diabetes dataset\n",
            "----------------\n",
            "\n",
            "Ten baseline variables, age, sex, body mass index, average blood\n",
            "pressure, and six blood serum measurements were obtained for each of n =\n",
            "442 diabetes patients, as well as the response of interest, a\n",
            "quantitative measure of disease progression one year after baseline.\n",
            "\n",
            "**Data Set Characteristics:**\n",
            "\n",
            "  :Number of Instances: 442\n",
            "\n",
            "  :Number of Attributes: First 10 columns are numeric predictive values\n",
            "\n",
            "  :Target: Column 11 is a quantitative measure of disease progression one year after baseline\n",
            "\n",
            "  :Attribute Information:\n",
            "      - age     age in years\n",
            "      - sex\n",
            "      - bmi     body mass index\n",
            "      - bp      average blood pressure\n",
            "      - s1      tc, total serum cholesterol\n",
            "      - s2      ldl, low-density lipoproteins\n",
            "      - s3      hdl, high-density lipoproteins\n",
            "      - s4      tch, total cholesterol / HDL\n",
            "      - s5      ltg, possibly log of serum triglycerides level\n",
            "      - s6      glu, blood sugar level\n",
            "\n",
            "Note: Each of these 10 feature variables have been mean centered and scaled by the standard deviation times the square root of `n_samples` (i.e. the sum of squares of each column totals 1).\n",
            "\n",
            "Source URL:\n",
            "https://www4.stat.ncsu.edu/~boos/var.select/diabetes.html\n",
            "\n",
            "For more information see:\n",
            "Bradley Efron, Trevor Hastie, Iain Johnstone and Robert Tibshirani (2004) \"Least Angle Regression,\" Annals of Statistics (with discussion), 407-499.\n",
            "(https://web.stanford.edu/~hastie/Papers/LARS/LeastAngle_2002.pdf)\n",
            "\n"
          ]
        }
      ]
    },
    {
      "cell_type": "markdown",
      "source": [
        "The above code will give details about the dataset. It is having baseline variables, age, sex, body mass index, average blood\n",
        "pressure, and six blood serum measurements were obtained for each of n =\n",
        "442 diabetes patients, as well as the response of interest, a\n",
        "quantitative measure of disease progression one year after baseline. It also has attribute information.\n",
        "\n",
        "---\n",
        "\n"
      ],
      "metadata": {
        "id": "ZRXl2sNVy7uJ"
      }
    }
  ]
}